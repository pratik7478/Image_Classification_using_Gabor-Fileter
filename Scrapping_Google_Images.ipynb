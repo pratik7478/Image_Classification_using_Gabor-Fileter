{
  "nbformat": 4,
  "nbformat_minor": 0,
  "metadata": {
    "colab": {
      "name": "Scrapping_cfiar-10.ipynb",
      "provenance": [],
      "collapsed_sections": []
    },
    "kernelspec": {
      "name": "python3",
      "display_name": "Python 3"
    },
    "language_info": {
      "name": "python"
    },
    "accelerator": "GPU"
  },
  "cells": [
    {
      "cell_type": "code",
      "metadata": {
        "id": "11k3jM802O3Q"
      },
      "source": [
        "import requests, sys, os, shutil, re, threading\n",
        "from bs4 import BeautifulSoup as bs"
      ],
      "execution_count": null,
      "outputs": []
    },
    {
      "cell_type": "code",
      "metadata": {
        "colab": {
          "base_uri": "https://localhost:8080/"
        },
        "id": "8uxoeib68Y24",
        "outputId": "ac5a3734-f19e-461e-f729-82fdbc7d4228"
      },
      "source": [
        "!pip install mechanicalsoup\n"
      ],
      "execution_count": null,
      "outputs": [
        {
          "output_type": "stream",
          "text": [
            "Collecting mechanicalsoup\n",
            "  Downloading https://files.pythonhosted.org/packages/71/fb/02e6ff9c4c9f88ca42876dcb31ba3d879746f410ddf17a4babfe351f5e46/MechanicalSoup-1.0.0-py2.py3-none-any.whl\n",
            "Requirement already satisfied: beautifulsoup4>=4.4 in /usr/local/lib/python3.7/dist-packages (from mechanicalsoup) (4.6.3)\n",
            "Requirement already satisfied: lxml in /usr/local/lib/python3.7/dist-packages (from mechanicalsoup) (4.2.6)\n",
            "Requirement already satisfied: six>=1.4 in /usr/local/lib/python3.7/dist-packages (from mechanicalsoup) (1.15.0)\n",
            "Requirement already satisfied: requests>=2.0 in /usr/local/lib/python3.7/dist-packages (from mechanicalsoup) (2.23.0)\n",
            "Requirement already satisfied: certifi>=2017.4.17 in /usr/local/lib/python3.7/dist-packages (from requests>=2.0->mechanicalsoup) (2020.12.5)\n",
            "Requirement already satisfied: urllib3!=1.25.0,!=1.25.1,<1.26,>=1.21.1 in /usr/local/lib/python3.7/dist-packages (from requests>=2.0->mechanicalsoup) (1.24.3)\n",
            "Requirement already satisfied: idna<3,>=2.5 in /usr/local/lib/python3.7/dist-packages (from requests>=2.0->mechanicalsoup) (2.10)\n",
            "Requirement already satisfied: chardet<4,>=3.0.2 in /usr/local/lib/python3.7/dist-packages (from requests>=2.0->mechanicalsoup) (3.0.4)\n",
            "Installing collected packages: mechanicalsoup\n",
            "Successfully installed mechanicalsoup-1.0.0\n"
          ],
          "name": "stdout"
        }
      ]
    },
    {
      "cell_type": "code",
      "metadata": {
        "colab": {
          "base_uri": "https://localhost:8080/"
        },
        "id": "RU8GB5R-3kur",
        "outputId": "35006b2b-a673-4c68-f74c-90e4edc69a76"
      },
      "source": [
        "import mechanicalsoup\n",
        " \n",
        "browser = mechanicalsoup.StatefulBrowser()\n",
        "url = \"https://www.google.com/imghp?hl=en\"\n",
        " \n",
        "browser.open(url)\n",
        " \n",
        "#get HTML\n",
        "browser.get_current_page()\n",
        " \n",
        "#target the search input\n",
        "browser.select_form()\n",
        "browser.get_current_form().print_summary()\n",
        " \n",
        "#search for a term\n",
        "search_term ='airplane'\n",
        "browser[\"q\"] = search_term \n",
        " \n",
        "#submit/\"click\" search\n",
        "browser.launch_browser()\n",
        "response = browser.submit_selected()\n",
        " \n",
        "print('new url:', browser.get_url())\n",
        "print('response:\\n', response.text[:500])"
      ],
      "execution_count": null,
      "outputs": [
        {
          "output_type": "stream",
          "text": [
            "<input name=\"tbm\" type=\"hidden\" value=\"isch\"/>\n",
            "<input name=\"ie\" type=\"hidden\" value=\"ISO-8859-1\"/>\n",
            "<input name=\"hl\" type=\"hidden\" value=\"en\"/>\n",
            "<input name=\"source\" type=\"hidden\" value=\"hp\"/>\n",
            "<input name=\"biw\" type=\"hidden\"/>\n",
            "<input name=\"bih\" type=\"hidden\"/>\n",
            "<input autocomplete=\"off\" class=\"lst\" maxlength=\"2048\" name=\"q\" size=\"57\" style=\"margin:0;padding:5px 8px 0 6px;vertical-align:top;color:#000\" title=\"Search Images\" value=\"\"/>\n",
            "<input class=\"lsb\" name=\"btnG\" type=\"submit\" value=\"Search Images\"/>\n",
            "<input id=\"gbv\" name=\"gbv\" type=\"hidden\" value=\"1\"/>\n",
            "new url: https://www.google.com/search?tbm=isch&ie=ISO-8859-1&hl=en&source=hp&biw=&bih=&q=airplane&btnG=Search+Images&gbv=1\n",
            "response:\n",
            " <!DOCTYPE html PUBLIC \"-//WAPFORUM//DTD XHTML Mobile 1.0//EN\" \"http://www.wapforum.org/DTD/xhtml-mobile10.dtd\"><html xmlns=\"http://www.w3.org/1999/xhtml\" lang=\"en\"><head><meta content=\"application/xhtml+xml; charset=UTF-8\" http-equiv=\"Content-Type\"/><meta content=\"no-cache\" name=\"Cache-Control\"/><title>airplane - Google Search</title><style>a{text-decoration:none;color:inherit}a:hover{text-decoration:underline}a img{border:0}body{font-family:Roboto,Helvetica,Arial,sans-serif;padding:8px;margin:0\n"
          ],
          "name": "stdout"
        }
      ]
    },
    {
      "cell_type": "code",
      "metadata": {
        "colab": {
          "base_uri": "https://localhost:8080/"
        },
        "id": "C61O4rdL8SDI",
        "outputId": "5d13b43c-3dac-40ff-d39a-4ae17c4f8411"
      },
      "source": [
        "#open URL\n",
        "new_url = browser.get_url()\n",
        "browser.open(new_url)\n",
        " \n",
        "#get HTML code\n",
        "page = browser.get_current_page()\n",
        "all_images = page.find_all('img')\n",
        " \n",
        "#target the source attributes of image\n",
        "image_source = []\n",
        "for image in all_images:\n",
        "    image = image.get('src')\n",
        "    image_source.append(image)\n",
        " \n",
        "image_source[26:46]"
      ],
      "execution_count": null,
      "outputs": [
        {
          "output_type": "execute_result",
          "data": {
            "text/plain": [
              "[]"
            ]
          },
          "metadata": {
            "tags": []
          },
          "execution_count": 4
        }
      ]
    },
    {
      "cell_type": "code",
      "metadata": {
        "colab": {
          "base_uri": "https://localhost:8080/"
        },
        "id": "5IxX6lr__TdU",
        "outputId": "0e79f2c6-a907-4b46-899d-5fbeef2651eb"
      },
      "source": [
        "#save cleaned links in \"image_source\"\n",
        "image_source = [image for image in image_source if image.startswith('https')]\n",
        "a=image_source\n",
        "print(image_source)\n",
        "b=tuple(a)\n",
        "print(b)"
      ],
      "execution_count": null,
      "outputs": [
        {
          "output_type": "stream",
          "text": [
            "['https://encrypted-tbn0.gstatic.com/images?q=tbn:ANd9GcTQ5TYhwcOfeasqphC3WBwn_Qpxjnv0J9qoRg37dr4LDrEEBG4ri85ceAdUpA&s', 'https://encrypted-tbn0.gstatic.com/images?q=tbn:ANd9GcQodg7qfTukt4XsIwcHmqFbmmE-kPQVJam67z2Whz98ooh_crtMnT17w40T-DY&s', 'https://encrypted-tbn0.gstatic.com/images?q=tbn:ANd9GcQcjmnsOuFvHBtp4oCDGeNZfySBPdHon7nbAKG2ADPYE-wchon1fuI4f9IDig&s', 'https://encrypted-tbn0.gstatic.com/images?q=tbn:ANd9GcRDu4PYjOsZskFsFmSD3poofN8_RHE4H1P-KVVvGB9qwEjDn6RH_aemzi9mDFI&s', 'https://encrypted-tbn0.gstatic.com/images?q=tbn:ANd9GcRBk14MnDmEkQY5eRKF2D8KwAxmS9VCufUl1DQYe3vQnsaeQXZwWRpCOP_4NA&s', 'https://encrypted-tbn0.gstatic.com/images?q=tbn:ANd9GcQCdIq3KwlH6uOulprJmaT0_PLFdxQkJht2orUd7h9eSCGyk4V-heHZKJZ7Pg&s', 'https://encrypted-tbn0.gstatic.com/images?q=tbn:ANd9GcRStKnEf-ehdi17TVKIUloo70pZtLBTGl8li-SYj48hfpu8qHXHVFD0FwpubA&s', 'https://encrypted-tbn0.gstatic.com/images?q=tbn:ANd9GcSuwYQHnoUUM_yJVKPykFAiNUUFYGyIswNPve5qczUrf119wqI1Z6EVdvhtZw&s', 'https://encrypted-tbn0.gstatic.com/images?q=tbn:ANd9GcR_hfzUqK-_ilwPSuRQKju5AnLKLlyDfRROUox4i3b0HVuMBWTPDs8efUpNof8&s', 'https://encrypted-tbn0.gstatic.com/images?q=tbn:ANd9GcS9IY0p4HRz-6YhsAYe7aIkdLQ0OHFSuSr7EqA5CROpmKD4kSTrZGU20kKlcg&s', 'https://encrypted-tbn0.gstatic.com/images?q=tbn:ANd9GcTz4UnOBH_NsG2makWUoEsfTEo7mCm4_fGvf8ksiPTcfD4HZqnD7fWHy13SMQ&s', 'https://encrypted-tbn0.gstatic.com/images?q=tbn:ANd9GcQaJdVyeMoxF8wVALE53VAWobmVkQctR2dIv8G5D-_ctfdXPP_i1EnyQmeTbDQ&s', 'https://encrypted-tbn0.gstatic.com/images?q=tbn:ANd9GcSgAMgZeDcw-rHH3u_I0Hx5XgVlDlIXhCdTVFoHFSO5firnPr0t3dM1k2JLCA&s', 'https://encrypted-tbn0.gstatic.com/images?q=tbn:ANd9GcTeunPwlUzCuzAsH8HYlHLFNoaLVUesx5IhWPJvqVEW-BSn18QXKY-5df7MpA&s', 'https://encrypted-tbn0.gstatic.com/images?q=tbn:ANd9GcSqVpndQHs0-gpuxoHGn0Ra-rblfBpseGKVSBv-623xGaOJCggC5nwkO1eeAw&s', 'https://encrypted-tbn0.gstatic.com/images?q=tbn:ANd9GcQ1xoZB_TD7d7gk60XADtlckyqm1uVKKLns7JL_Es8pwyt9xlnXLnoXD6a9tgE&s', 'https://encrypted-tbn0.gstatic.com/images?q=tbn:ANd9GcRkLGIXkulYIq3vA-t9JZTFP_LXf4gX60BAB6VIAum-KiFDwqg-E-jd6q_03w&s', 'https://encrypted-tbn0.gstatic.com/images?q=tbn:ANd9GcTB89fJu-lHQlQKikgr6OFsxfiBocnuTdL5Qbf8UI4U0hRRcQXSHznN4hjnCA&s', 'https://encrypted-tbn0.gstatic.com/images?q=tbn:ANd9GcTLcuiCYhUr4tl6-WJz-ghz1UiMDQkDX2JFVLVy3vXBoY_evJs8JQQz8WwIgOQ&s', 'https://encrypted-tbn0.gstatic.com/images?q=tbn:ANd9GcSXcOCSzRun-1LnyFXT5_-30FyiKzcywWieul5NPNdVYKcsYJb31avJjySUJA&s']\n",
            "('https://encrypted-tbn0.gstatic.com/images?q=tbn:ANd9GcTQ5TYhwcOfeasqphC3WBwn_Qpxjnv0J9qoRg37dr4LDrEEBG4ri85ceAdUpA&s', 'https://encrypted-tbn0.gstatic.com/images?q=tbn:ANd9GcQodg7qfTukt4XsIwcHmqFbmmE-kPQVJam67z2Whz98ooh_crtMnT17w40T-DY&s', 'https://encrypted-tbn0.gstatic.com/images?q=tbn:ANd9GcQcjmnsOuFvHBtp4oCDGeNZfySBPdHon7nbAKG2ADPYE-wchon1fuI4f9IDig&s', 'https://encrypted-tbn0.gstatic.com/images?q=tbn:ANd9GcRDu4PYjOsZskFsFmSD3poofN8_RHE4H1P-KVVvGB9qwEjDn6RH_aemzi9mDFI&s', 'https://encrypted-tbn0.gstatic.com/images?q=tbn:ANd9GcRBk14MnDmEkQY5eRKF2D8KwAxmS9VCufUl1DQYe3vQnsaeQXZwWRpCOP_4NA&s', 'https://encrypted-tbn0.gstatic.com/images?q=tbn:ANd9GcQCdIq3KwlH6uOulprJmaT0_PLFdxQkJht2orUd7h9eSCGyk4V-heHZKJZ7Pg&s', 'https://encrypted-tbn0.gstatic.com/images?q=tbn:ANd9GcRStKnEf-ehdi17TVKIUloo70pZtLBTGl8li-SYj48hfpu8qHXHVFD0FwpubA&s', 'https://encrypted-tbn0.gstatic.com/images?q=tbn:ANd9GcSuwYQHnoUUM_yJVKPykFAiNUUFYGyIswNPve5qczUrf119wqI1Z6EVdvhtZw&s', 'https://encrypted-tbn0.gstatic.com/images?q=tbn:ANd9GcR_hfzUqK-_ilwPSuRQKju5AnLKLlyDfRROUox4i3b0HVuMBWTPDs8efUpNof8&s', 'https://encrypted-tbn0.gstatic.com/images?q=tbn:ANd9GcS9IY0p4HRz-6YhsAYe7aIkdLQ0OHFSuSr7EqA5CROpmKD4kSTrZGU20kKlcg&s', 'https://encrypted-tbn0.gstatic.com/images?q=tbn:ANd9GcTz4UnOBH_NsG2makWUoEsfTEo7mCm4_fGvf8ksiPTcfD4HZqnD7fWHy13SMQ&s', 'https://encrypted-tbn0.gstatic.com/images?q=tbn:ANd9GcQaJdVyeMoxF8wVALE53VAWobmVkQctR2dIv8G5D-_ctfdXPP_i1EnyQmeTbDQ&s', 'https://encrypted-tbn0.gstatic.com/images?q=tbn:ANd9GcSgAMgZeDcw-rHH3u_I0Hx5XgVlDlIXhCdTVFoHFSO5firnPr0t3dM1k2JLCA&s', 'https://encrypted-tbn0.gstatic.com/images?q=tbn:ANd9GcTeunPwlUzCuzAsH8HYlHLFNoaLVUesx5IhWPJvqVEW-BSn18QXKY-5df7MpA&s', 'https://encrypted-tbn0.gstatic.com/images?q=tbn:ANd9GcSqVpndQHs0-gpuxoHGn0Ra-rblfBpseGKVSBv-623xGaOJCggC5nwkO1eeAw&s', 'https://encrypted-tbn0.gstatic.com/images?q=tbn:ANd9GcQ1xoZB_TD7d7gk60XADtlckyqm1uVKKLns7JL_Es8pwyt9xlnXLnoXD6a9tgE&s', 'https://encrypted-tbn0.gstatic.com/images?q=tbn:ANd9GcRkLGIXkulYIq3vA-t9JZTFP_LXf4gX60BAB6VIAum-KiFDwqg-E-jd6q_03w&s', 'https://encrypted-tbn0.gstatic.com/images?q=tbn:ANd9GcTB89fJu-lHQlQKikgr6OFsxfiBocnuTdL5Qbf8UI4U0hRRcQXSHznN4hjnCA&s', 'https://encrypted-tbn0.gstatic.com/images?q=tbn:ANd9GcTLcuiCYhUr4tl6-WJz-ghz1UiMDQkDX2JFVLVy3vXBoY_evJs8JQQz8WwIgOQ&s', 'https://encrypted-tbn0.gstatic.com/images?q=tbn:ANd9GcSXcOCSzRun-1LnyFXT5_-30FyiKzcywWieul5NPNdVYKcsYJb31avJjySUJA&s')\n"
          ],
          "name": "stdout"
        }
      ]
    },
    {
      "cell_type": "code",
      "metadata": {
        "colab": {
          "base_uri": "https://localhost:8080/",
          "height": 36
        },
        "id": "g9vr3qrW_a6B",
        "outputId": "23574cc6-60d2-4202-a4aa-e55dd1ec6cbc"
      },
      "source": [
        "import os\n",
        " \n",
        "path = os.getcwd()\n",
        "path = os.path.join(path, search_term + \"s\")\n",
        " \n",
        "#create the directory\n",
        "os.mkdir(path)\n",
        "#print path where cats images are going to save\n",
        "path"
      ],
      "execution_count": null,
      "outputs": [
        {
          "output_type": "execute_result",
          "data": {
            "application/vnd.google.colaboratory.intrinsic+json": {
              "type": "string"
            },
            "text/plain": [
              "'/content/airplanes'"
            ]
          },
          "metadata": {
            "tags": []
          },
          "execution_count": 6
        }
      ]
    },
    {
      "cell_type": "code",
      "metadata": {
        "colab": {
          "base_uri": "https://localhost:8080/"
        },
        "id": "V4AeC-O_AMUj",
        "outputId": "18352415-1ebc-408b-b6fa-580b3fccec91"
      },
      "source": [
        "!pip install wget  \n"
      ],
      "execution_count": null,
      "outputs": [
        {
          "output_type": "stream",
          "text": [
            "Collecting wget\n",
            "  Downloading https://files.pythonhosted.org/packages/47/6a/62e288da7bcda82b935ff0c6cfe542970f04e29c756b0e147251b2fb251f/wget-3.2.zip\n",
            "Building wheels for collected packages: wget\n",
            "  Building wheel for wget (setup.py) ... \u001b[?25l\u001b[?25hdone\n",
            "  Created wheel for wget: filename=wget-3.2-cp37-none-any.whl size=9681 sha256=0e7d662c84b2510ebd901e69e7179885f230ea329e2550654a90c6bf88594d05\n",
            "  Stored in directory: /root/.cache/pip/wheels/40/15/30/7d8f7cea2902b4db79e3fea550d7d7b85ecb27ef992b618f3f\n",
            "Successfully built wget\n",
            "Installing collected packages: wget\n",
            "Successfully installed wget-3.2\n"
          ],
          "name": "stdout"
        }
      ]
    },
    {
      "cell_type": "code",
      "metadata": {
        "id": "S0gZnsZ-_9Hy"
      },
      "source": [
        "##download wget by uncommenting below line\n",
        "\n",
        "\n",
        "##download images\n",
        "\n",
        "import wget\n",
        "counter = 0\n",
        "for image in image_source:\n",
        "    save_as = os.path.join(path, search_term + str(counter) + '.jpg')\n",
        "    wget.download(image, save_as)\n",
        "    counter += 1"
      ],
      "execution_count": null,
      "outputs": []
    },
    {
      "cell_type": "code",
      "metadata": {
        "colab": {
          "base_uri": "https://localhost:8080/",
          "height": 36
        },
        "id": "hpZv9m1-Dyx3",
        "outputId": "faa26d94-9d24-4122-bf51-f545dce9c4eb"
      },
      "source": [
        "import shutil\n",
        "shutil.make_archive('airplanes', 'zip', 'airplanes')"
      ],
      "execution_count": null,
      "outputs": [
        {
          "output_type": "execute_result",
          "data": {
            "application/vnd.google.colaboratory.intrinsic+json": {
              "type": "string"
            },
            "text/plain": [
              "'/content/airplanes.zip'"
            ]
          },
          "metadata": {
            "tags": []
          },
          "execution_count": 9
        }
      ]
    },
    {
      "cell_type": "code",
      "metadata": {
        "id": "Us77gbm8Ed7q"
      },
      "source": [
        ""
      ],
      "execution_count": null,
      "outputs": []
    }
  ]
}